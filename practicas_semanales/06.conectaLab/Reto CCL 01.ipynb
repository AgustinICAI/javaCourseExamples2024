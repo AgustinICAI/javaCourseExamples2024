{
 "cells": [
  {
   "cell_type": "markdown",
   "metadata": {},
   "source": [
    "# Retos de Programación Orientada a Objetos"
   ]
  },
  {
   "cell_type": "markdown",
   "metadata": {},
   "source": [
    " ## Reto 1. Modificadores de acceso"
   ]
  },
  {
   "cell_type": "markdown",
   "metadata": {},
   "source": [
    "**Objetivo**: Dado el siguiente programa, establecer los modificadores de acceso **más restrictivos posibles** para que siga un diseño correcto y además, funcione el programa. Modifica el código necesario para que sea funcional y cumpla con los criterios de diseño vistos en clase.\n",
    "\n",
    "**Tipo de trabajo**: Colaborativo en grupos de 4 alumnos.\n",
    "\n",
    "**Duración**: 5 minutos"
   ]
  },
  {
   "cell_type": "markdown",
   "metadata": {},
   "source": [
    "```java\n",
    "\n",
    "package dominio;\n",
    "\n",
    "class A\n",
    "{\n",
    "\n",
    "    int a;\n",
    "\n",
    "    A(int a){....}\n",
    "\n",
    "    int getA(){....}\n",
    "\n",
    "    void setA(int a){....}\n",
    "\n",
    "    int m()\n",
    "    {\n",
    "        int x = this.m2() + this.m3();\n",
    "    }\n",
    "\n",
    "    int m2(){....}\n",
    "\n",
    "    int m3(){....}\n",
    "\n",
    "    String toString(){....}\n",
    "}\n",
    "\n",
    "package dominio;\n",
    "\n",
    "class B extends A\n",
    "{\n",
    "    int b;\n",
    "\n",
    "    B(int a, int b){....}\n",
    "\n",
    "    int getB(){....}\n",
    "\n",
    "    void setB(int b){....}\n",
    "\n",
    "    int m()\n",
    "    {\n",
    "        int x = this.m2() + this.m4();\n",
    "    }\n",
    "\n",
    "    int m4(){....}\n",
    "\n",
    "    String toString(){....}\n",
    "\n",
    "}\n",
    "\n",
    "package ui;\n",
    "\n",
    "class App\n",
    "{\n",
    "    static void main(String args[])\n",
    "    {\n",
    "        A a1 = new A(1);\n",
    "        B b1 = new B(1, 1);\n",
    "        a1.m();\n",
    "        b1.m();\n",
    "    }\n",
    "}\n",
    "\n",
    "```"
   ]
  }
 ],
 "metadata": {
  "kernelspec": {
   "display_name": "Java",
   "language": "java",
   "name": "java"
  },
  "language_info": {
   "codemirror_mode": "java",
   "file_extension": ".jshell",
   "mimetype": "text/x-java-source",
   "name": "Java",
   "pygments_lexer": "java",
   "version": "11.0.12+8-LTS-237"
  }
 },
 "nbformat": 4,
 "nbformat_minor": 4
}
