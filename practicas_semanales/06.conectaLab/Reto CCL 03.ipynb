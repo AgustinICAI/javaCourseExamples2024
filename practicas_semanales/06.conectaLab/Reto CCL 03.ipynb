{
 "cells": [
  {
   "cell_type": "markdown",
   "metadata": {},
   "source": [
    "# Retos de Programación Orientada a Objetos"
   ]
  },
  {
   "cell_type": "markdown",
   "metadata": {},
   "source": [
    "## Reto 3. Árbol de navidad\n",
    "**Objetivo**: Pintar un árbol de navidad como el que se muestra a continuación (basado en asteriscos), programado de la forma más automatizada posible mediante la utilización de bucles.\n",
    "\n",
    "**Tipo de trabajo**: Colaborativo en grupos de 4 alumnos.\n",
    "\n",
    "**Duración**: 20 minutos\n",
    "\n",
    "**Datos**: Se deberá automatizar para que sea capaz de pintar árboles de cualquier número de pisos, ancho y pareja de caracteres a representar (**, ##, ^^, etc.).\n",
    "\n",
    "A modo de ejemplo, para validar el resultado del programa, se deberá programar el siguiente árbol:\n",
    "\n",
    "Árbol de 3 pisos, con las siguientes características:\n",
    "1. Altura de 5 líneas y un ancho máximo de 10 asteriscos\n",
    "2. Altura de 7 líneas y un ancho máximo de 14 asteriscos\n",
    "3. Altura de 9 líneas y un ancho máximo de 18 asteriscos\n",
    "\n",
    "El ancho mínimo es de dos asteriscos.\n",
    "\n",
    "**Salida del programa**:\n",
    " ```\n",
    "                 **\n",
    "                ****\n",
    "               ******\n",
    "              ********\n",
    "             **********\n",
    "                 **\n",
    "                ****\n",
    "               ******\n",
    "              ********\n",
    "             **********\n",
    "            ************\n",
    "           **************\n",
    "                 **\n",
    "                ****\n",
    "               ******\n",
    "              ********\n",
    "             **********\n",
    "            ************\n",
    "           **************\n",
    "          ****************\n",
    "         ******************\n",
    "```"
   ]
  },
  {
   "cell_type": "code",
   "execution_count": null,
   "metadata": {},
   "outputs": [],
   "source": []
  }
 ],
 "metadata": {
  "kernelspec": {
   "display_name": "Java",
   "language": "java",
   "name": "java"
  },
  "language_info": {
   "codemirror_mode": "java",
   "file_extension": ".jshell",
   "mimetype": "text/x-java-source",
   "name": "Java",
   "pygments_lexer": "java",
   "version": "11.0.12+8-LTS-237"
  }
 },
 "nbformat": 4,
 "nbformat_minor": 4
}
