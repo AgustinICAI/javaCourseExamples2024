{
 "cells": [
  {
   "cell_type": "markdown",
   "metadata": {},
   "source": [
    "# Retos de Programación Orientada a Objetos"
   ]
  },
  {
   "cell_type": "markdown",
   "metadata": {},
   "source": [
    " ## Reto 4. Comportamiento de StringBuilder a Persona"
   ]
  },
  {
   "cell_type": "markdown",
   "metadata": {},
   "source": [
    "**Objetivo**: Recientemente hemos visto como se puede trabajar con StringBuilder de la siguiente forma:\n",
    "```java\n",
    "StringBuilder sb = new StringBuilder();\n",
    "sb.append(\"A\");\n",
    "sb.append(\"B\");\n",
    "sb.append(\"C\");\n",
    "```\n",
    "Y también hemos visto que permite otras formas equivalente, muy cómodas y muy utilizadas en la actualidad:\n",
    "```java\n",
    "StringBuilder sb = new StringBuilder();\n",
    "sb.append(\"A\")\n",
    "  .append(\"B\")\n",
    "  .append(\"C\");\n",
    "```\n",
    "Haced los cambios pertinentes a la clase Persona para que permita asignar valores mediante sus setters de la misma forma que puede hacer StringBuilder.\n",
    "\n",
    "Sería pasar de este formato actual y convencional:\n",
    "\n",
    "```java\n",
    "Persona persona = new Persona();\n",
    "persona.setNombre(\"Luis\");\n",
    "persona.setEdad(22);\n",
    "persona.setDireccion(\"Calle del Pez, 17\");\n",
    "```\n",
    "\n",
    "Al siguiente:\n",
    "\n",
    "```java\n",
    "Persona persona = new Persona();\n",
    "persona.setNombre(\"Luis\")\n",
    "       .setEdad(22)\n",
    "       .setDireccion(\"Calle del Pez, 17\");\n",
    "```\n",
    "\n",
    "**Tipo de trabajo**: Colaborativo en grupos de 4 alumnos.\n",
    "\n",
    "**Duración**: 5 minutos"
   ]
  },
  {
   "cell_type": "code",
   "execution_count": 5,
   "metadata": {},
   "outputs": [],
   "source": [
    "public class Persona\n",
    "{\n",
    "    private String nombre;\n",
    "    private int edad;\n",
    "    private String direccion;\n",
    "\n",
    "    public void setNombre(String nombre)\n",
    "    {\n",
    "        this.nombre = nombre;\n",
    "    }\n",
    "\n",
    "    public void setEdad(int edad)\n",
    "    {\n",
    "        this.edad = edad;\n",
    "    }\n",
    "    \n",
    "    public void setDireccion(String direccion)\n",
    "    {\n",
    "        this.direccion = direccion;\n",
    "    }    \n",
    "\n",
    "    @Override\n",
    "    public String toString()\n",
    "    {\n",
    "        return nombre + \" (\" + edad + \") en \" + direccion;\n",
    "    }\n",
    "}"
   ]
  },
  {
   "cell_type": "code",
   "execution_count": 6,
   "metadata": {},
   "outputs": [
    {
     "name": "stdout",
     "output_type": "stream",
     "text": [
      "Luis (22) en Calle del Pez, 17\n"
     ]
    }
   ],
   "source": [
    "Persona persona = new Persona();\n",
    "persona.setNombre(\"Luis\");\n",
    "persona.setEdad(22);\n",
    "persona.setDireccion(\"Calle del Pez, 17\");\n",
    "\n",
    "System.out.println(persona);"
   ]
  },
  {
   "cell_type": "code",
   "execution_count": null,
   "metadata": {},
   "outputs": [],
   "source": []
  }
 ],
 "metadata": {
  "kernelspec": {
   "display_name": "Java",
   "language": "java",
   "name": "java"
  },
  "language_info": {
   "codemirror_mode": "java",
   "file_extension": ".jshell",
   "mimetype": "text/x-java-source",
   "name": "Java",
   "pygments_lexer": "java",
   "version": "11.0.12+8-LTS-237"
  }
 },
 "nbformat": 4,
 "nbformat_minor": 4
}
