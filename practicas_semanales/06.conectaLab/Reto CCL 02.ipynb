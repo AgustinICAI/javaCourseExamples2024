{
 "cells": [
  {
   "cell_type": "markdown",
   "metadata": {},
   "source": [
    "# Retos de Programación Orientada a Objetos"
   ]
  },
  {
   "cell_type": "markdown",
   "metadata": {},
   "source": [
    " ## Reto 2. Benchmarking cálculo del número PI\n",
    " \n",
    "**Objetivo**: Realizar un becnhmarking sobre el cálculo del número PI mediante el Método de Montecarlo que se suministra con distinto número de iteraciones.\n",
    "\n",
    "**Tipo de trabajo**: Colaborativo en grupos de 4 alumnos.\n",
    "\n",
    "**Duración**: 15 minutos\n",
    "\n",
    "**Datos**: Las iteraciones a probar serán desde 1 hasta 10^8, en incrementos de x10.\n",
    "\n",
    "**Salida del programa**: Mostrar una tabla de resultados que muestre los siguientes valores:\n",
    "\n",
    "El significado de cada columna es:\n",
    "```\n",
    "Valor obtenido de PI, número de iteraciones, tiempo de ejecución, error absoluto obtenido.\n",
    "```\n",
    "No será necesario mostrar el encabezado anterior.\n",
    "\n",
    "```\n",
    "4.0, 1, 0ms., 858407 error\n",
    "2.8, 10, 0ms., 341592 error\n",
    "3.28, 100, 0ms., 138407 error\n",
    "3.016, 1000, 0ms., 125592 error\n",
    "3.1628, 10000, 12ms., 21207 error\n",
    "3.14064, 100000, 113ms., 952 error\n",
    "3.140548, 1000000, 935ms., 1044 error\n",
    "3.141434, 10000000, 9971ms., 158 error\n",
    "```"
   ]
  },
  {
   "cell_type": "code",
   "execution_count": 3,
   "metadata": {},
   "outputs": [],
   "source": [
    "class App\n",
    "{\n",
    "    static double calculoPIMontecarlo(long iteraciones)\n",
    "    {\n",
    "        double x;\n",
    "        double y;\n",
    "        int exito = 0;\n",
    "        for (int i=0;i<iteraciones;i++)\n",
    "        {\n",
    "            x = Math.random();\n",
    "            y = Math.random();\n",
    "            if ((Math.pow(x, 2) + Math.pow(y, 2)) <= 1)\n",
    "                exito++;\n",
    "        }\n",
    "        return (double) (4*exito)/iteraciones;\n",
    "    }  \n",
    "}"
   ]
  },
  {
   "cell_type": "markdown",
   "metadata": {},
   "source": [
    "#### Trabajando con la hora del sistema"
   ]
  },
  {
   "cell_type": "code",
   "execution_count": 4,
   "metadata": {},
   "outputs": [
    {
     "name": "stdout",
     "output_type": "stream",
     "text": [
      "Tue Feb 28 08:29:36 CET 2023\n"
     ]
    }
   ],
   "source": [
    "import java.util.Date;\n",
    "\n",
    "Date tiempo = new Date();\n",
    "System.out.println(tiempo);"
   ]
  },
  {
   "cell_type": "code",
   "execution_count": 5,
   "metadata": {},
   "outputs": [
    {
     "name": "stdout",
     "output_type": "stream",
     "text": [
      "1677569376003\n"
     ]
    }
   ],
   "source": [
    "System.out.println(tiempo.getTime());"
   ]
  },
  {
   "cell_type": "code",
   "execution_count": 6,
   "metadata": {},
   "outputs": [
    {
     "name": "stdout",
     "output_type": "stream",
     "text": [
      "1677569376003\n"
     ]
    }
   ],
   "source": [
    "long horaActual = tiempo.getTime();\n",
    "System.out.println(horaActual);"
   ]
  },
  {
   "cell_type": "code",
   "execution_count": null,
   "metadata": {},
   "outputs": [],
   "source": []
  }
 ],
 "metadata": {
  "kernelspec": {
   "display_name": "Java",
   "language": "java",
   "name": "java"
  },
  "language_info": {
   "codemirror_mode": "java",
   "file_extension": ".jshell",
   "mimetype": "text/x-java-source",
   "name": "Java",
   "pygments_lexer": "java",
   "version": "11.0.12+8-LTS-237"
  }
 },
 "nbformat": 4,
 "nbformat_minor": 4
}
